{
 "cells": [
  {
   "cell_type": "code",
   "execution_count": 1,
   "id": "0c7a7cb4-334d-4215-b4c7-f1b32e08a591",
   "metadata": {},
   "outputs": [
    {
     "name": "stderr",
     "output_type": "stream",
     "text": [
      "C:\\Users\\alexd\\AppData\\Local\\Temp\\ipykernel_3372\\18877623.py:4: DeprecationWarning: \n",
      "Pyarrow will become a required dependency of pandas in the next major release of pandas (pandas 3.0),\n",
      "(to allow more performant data types, such as the Arrow string type, and better interoperability with other libraries)\n",
      "but was not found to be installed on your system.\n",
      "If this would cause problems for you,\n",
      "please provide us feedback at https://github.com/pandas-dev/pandas/issues/54466\n",
      "        \n",
      "  import pandas as pd\n"
     ]
    }
   ],
   "source": [
    "#Imports/loads Model\n",
    "import spacy\n",
    "from spacy import displacy\n",
    "import pandas as pd\n",
    "\n",
    "nlp = spacy.load('en_core_web_sm')"
   ]
  },
  {
   "cell_type": "code",
   "execution_count": 12,
   "id": "2b0d8c74-ffbc-4311-bfc1-4479bc74d24e",
   "metadata": {},
   "outputs": [],
   "source": [
    "'''\n",
    "# Open the input file for reading\n",
    "doc_file_path = \"test_text.txt\"\n",
    "with open(doc_file_path, 'r') as input_file:\n",
    "    # Read the content of the file\n",
    "    content = input_file.read() \n",
    "'''\n",
    "content = \"Drone has a camera, 3 batteries, a gyroscope, a sticker, and 4 propellors and must fly. John, walks his dog at the park. We are flying to Seattle with our three dogs.\""
   ]
  },
  {
   "cell_type": "code",
   "execution_count": 13,
   "id": "e30f0aee-7970-416a-9487-52f777eba098",
   "metadata": {},
   "outputs": [],
   "source": [
    "#Initialize Vars\n",
    "document = nlp(content) "
   ]
  },
  {
   "cell_type": "code",
   "execution_count": 14,
   "id": "50b87bcb-c640-4c8b-9f07-41db7fe7771f",
   "metadata": {},
   "outputs": [],
   "source": [
    "#follows down NL list of attibutes\n",
    "def conjTrail(token, lst):\n",
    "    for child in token.children:\n",
    "        if child.dep_ == \"conj\":\n",
    "            lst.append(child)\n",
    "            return conjTrail(child, lst)\n",
    "    return lst"
   ]
  },
  {
   "cell_type": "code",
   "execution_count": 15,
   "id": "a4924a96-34df-432e-854a-34f91f991180",
   "metadata": {},
   "outputs": [],
   "source": [
    "#follows preposition to pobj\n",
    "def prepToPobj(child):\n",
    "    lst = []\n",
    "    #checks for prepositional modifier connecting attribute to subject\n",
    "    if child.dep_ == \"prep\":\n",
    "        #checks for an object of preposition in the children of the prepositional modifier\n",
    "        for childI in child.children:\n",
    "            if childI.dep_ == \"pobj\":\n",
    "                lst.append(childI)\n",
    "    return lst"
   ]
  },
  {
   "cell_type": "code",
   "execution_count": 16,
   "id": "a85e2f39-c8ac-45e3-ac24-e6c9ae0dd9f5",
   "metadata": {},
   "outputs": [
    {
     "name": "stdout",
     "output_type": "stream",
     "text": [
      "Sentance# 0  Subject# 1 --> [ Drone ] - [has, fly] - [camera, batteries, cat, dog, propellors]\n",
      "Sentance# 1  Subject# 1 --> [ John ] - [walks] - [dog]\n",
      "Sentance# 2  Subject# 1 --> [ We ] - [flying] - [Seattle, dogs]\n"
     ]
    }
   ],
   "source": [
    "#NL = Natural Language\n",
    "#Spaghetti code from trial and error testing\n",
    "sentanceCount = 0\n",
    "for sentence in document.sents:\n",
    "    subjectCount = 0\n",
    "    for token in sentence:\n",
    "        #find subject    \n",
    "        if token.dep_ == \"nsubj\" or token.dep_ == \"nsubjpass\" and token.lemma_ != \"it\":\n",
    "            attributes = []\n",
    "            actions = []\n",
    "            subject = token\n",
    "            subjectCount += 1\n",
    "            #look for action verbs connected to the subject\n",
    "            for parent in token.ancestors:\n",
    "                if parent.dep_ == \"ROOT\" or parent.pos_ == \"AUX\" and parent not in actions:\n",
    "                    actions.append(parent)\n",
    "                    for child in parent.children:\n",
    "                        #checks for actions via conjuction dep\n",
    "                        if child.dep_ == \"conj\" and child not in actions:\n",
    "                            actions.append(child)\n",
    "                        #checks for direct object\n",
    "                        if child.dep_ == \"dobj\": \n",
    "                            attributes.append(child)\n",
    "                            for childI in child.children:\n",
    "                                #checks for token with appositional modifier connected to the direct object\n",
    "                                if childI.dep_ == \"appos\":\n",
    "                                    attributes.append(childI)\n",
    "                                    #looks for chain of conjunctions, if found recursive method called to handle rest of NL list\n",
    "                                    if any(childJ.dep_ == \"conj\" for childJ in childI.children):\n",
    "                                        attributes = attributes + conjTrail(childI,[])\n",
    "                        #checks for prepositional modifier connecting attribute to subject\n",
    "                        attributes = attributes + prepToPobj(child)\n",
    "                        #checks for adjectival complement connecting adjective to subject\n",
    "                        if child.dep_ == \"acomp\":\n",
    "                            for childI in child.children:\n",
    "                                #checks for prepositional modifier connecting attribute to subject\n",
    "                                attributes = attributes + prepToPobj(childI)\n",
    "                        #checks for open clausal complement\n",
    "                        if child.dep_ == \"xcomp\":\n",
    "                            for childI in child.children:\n",
    "                                if childI.dep_ == \"dobj\":\n",
    "                                    attributes.append(childI)\n",
    "                                    for childJ in childI.children:\n",
    "                                        #checks for prepositional modifier connecting attribute to subject\n",
    "                                        attributes = attributes + prepToPobj(childJ)\n",
    "            #print/output  <sentance #> : <subject #> --> [subject] - [actions] - [attributes]\n",
    "            print(\"Sentance#\",sentanceCount,\" Subject#\",subjectCount,\"-->\",\"[\", subject, \"] -\", actions, \"-\", attributes)\n",
    "    sentanceCount += 1"
   ]
  }
 ],
 "metadata": {
  "kernelspec": {
   "display_name": "Python 3 (ipykernel)",
   "language": "python",
   "name": "python3"
  },
  "language_info": {
   "codemirror_mode": {
    "name": "ipython",
    "version": 3
   },
   "file_extension": ".py",
   "mimetype": "text/x-python",
   "name": "python",
   "nbconvert_exporter": "python",
   "pygments_lexer": "ipython3",
   "version": "3.12.0"
  }
 },
 "nbformat": 4,
 "nbformat_minor": 5
}
